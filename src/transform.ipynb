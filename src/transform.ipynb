{
 "cells": [
  {
   "cell_type": "markdown",
   "metadata": {},
   "source": [
    "# Importação"
   ]
  },
  {
   "cell_type": "code",
   "execution_count": 1,
   "metadata": {},
   "outputs": [
    {
     "name": "stderr",
     "output_type": "stream",
     "text": [
      "Setting default log level to \"WARN\".\n",
      "To adjust logging level use sc.setLogLevel(newLevel). For SparkR, use setLogLevel(newLevel).\n",
      "25/03/27 21:43:09 WARN NativeCodeLoader: Unable to load native-hadoop library for your platform... using builtin-java classes where applicable\n",
      "/Library/Frameworks/Python.framework/Versions/3.12/lib/python3.12/site-packages/tqdm/auto.py:21: TqdmWarning: IProgress not found. Please update jupyter and ipywidgets. See https://ipywidgets.readthedocs.io/en/stable/user_install.html\n",
      "  from .autonotebook import tqdm as notebook_tqdm\n"
     ]
    }
   ],
   "source": [
    "import config\n",
    "from utils.functions import spark, median, length, col\n",
    "from extract import extract_database_kaggle"
   ]
  },
  {
   "cell_type": "code",
   "execution_count": 2,
   "metadata": {},
   "outputs": [],
   "source": [
    "# spark.stop()"
   ]
  },
  {
   "cell_type": "code",
   "execution_count": 3,
   "metadata": {},
   "outputs": [
    {
     "name": "stderr",
     "output_type": "stream",
     "text": [
      "                                                                                \r"
     ]
    }
   ],
   "source": [
    "transacoes = extract_database_kaggle(spark, 'ealtman2019/credit-card-transactions')"
   ]
  },
  {
   "cell_type": "markdown",
   "metadata": {},
   "source": [
    "# Análise exploratória"
   ]
  },
  {
   "cell_type": "code",
   "execution_count": 4,
   "metadata": {},
   "outputs": [
    {
     "name": "stderr",
     "output_type": "stream",
     "text": [
      "                                                                                \r"
     ]
    },
    {
     "name": "stdout",
     "output_type": "stream",
     "text": [
      "A base de transações tem 24415009 linhas e tem a seguinte composição: \n",
      "+----+----+----+-----+---+-----+-------+-----------------+--------------------+-------------+--------------+-------+----+-------+---------+\n",
      "|User|Card|Year|Month|Day| Time| Amount|         Use Chip|       Merchant Name|Merchant City|Merchant State|    Zip| MCC|Errors?|Is Fraud?|\n",
      "+----+----+----+-----+---+-----+-------+-----------------+--------------------+-------------+--------------+-------+----+-------+---------+\n",
      "|   0|   0|2002|    9|  1|06:21|$134.09|Swipe Transaction| 3527213246127876953|     La Verne|            CA|91750.0|5300|   NULL|       No|\n",
      "|   0|   0|2002|    9|  1|06:42| $38.48|Swipe Transaction| -727612092139916043|Monterey Park|            CA|91754.0|5411|   NULL|       No|\n",
      "|   0|   0|2002|    9|  2|06:22|$120.34|Swipe Transaction| -727612092139916043|Monterey Park|            CA|91754.0|5411|   NULL|       No|\n",
      "|   0|   0|2002|    9|  2|17:45|$128.95|Swipe Transaction| 3414527459579106770|Monterey Park|            CA|91754.0|5651|   NULL|       No|\n",
      "|   0|   0|2002|    9|  3|06:23|$104.71|Swipe Transaction| 5817218446178736267|     La Verne|            CA|91750.0|5912|   NULL|       No|\n",
      "|   0|   0|2002|    9|  3|13:53| $86.19|Swipe Transaction|-7146670748125200898|Monterey Park|            CA|91755.0|5970|   NULL|       No|\n",
      "|   0|   0|2002|    9|  4|05:51| $93.84|Swipe Transaction| -727612092139916043|Monterey Park|            CA|91754.0|5411|   NULL|       No|\n",
      "|   0|   0|2002|    9|  4|06:09|$123.50|Swipe Transaction| -727612092139916043|Monterey Park|            CA|91754.0|5411|   NULL|       No|\n",
      "|   0|   0|2002|    9|  5|06:14| $61.72|Swipe Transaction| -727612092139916043|Monterey Park|            CA|91754.0|5411|   NULL|       No|\n",
      "|   0|   0|2002|    9|  5|09:35| $57.10|Swipe Transaction| 4055257078481058705|     La Verne|            CA|91750.0|7538|   NULL|       No|\n",
      "+----+----+----+-----+---+-----+-------+-----------------+--------------------+-------------+--------------+-------+----+-------+---------+\n",
      "only showing top 10 rows\n",
      "\n"
     ]
    }
   ],
   "source": [
    "print(f'A base de transações tem {transacoes.count()} linhas e tem a seguinte composição: ')\n",
    "transacoes.show(10)"
   ]
  },
  {
   "cell_type": "code",
   "execution_count": 5,
   "metadata": {},
   "outputs": [],
   "source": [
    "transacoes.createGlobalTempView(\"transacoes\")"
   ]
  },
  {
   "cell_type": "code",
   "execution_count": 6,
   "metadata": {},
   "outputs": [
    {
     "name": "stderr",
     "output_type": "stream",
     "text": [
      "25/03/27 21:43:46 WARN CSVHeaderChecker: CSV header does not conform to the schema.\n",
      " Header: Card Brand\n",
      " Schema: Year\n",
      "Expected: Year but found: Card Brand\n",
      "CSV file: file:///Users/marcusferreira/.cache/kagglehub/datasets/ealtman2019/credit-card-transactions/versions/8/sd254_cards.csv\n",
      "25/03/27 21:43:46 WARN CSVHeaderChecker: CSV header does not conform to the schema.\n",
      " Header: Retirement Age\n",
      " Schema: Year\n",
      "Expected: Year but found: Retirement Age\n",
      "CSV file: file:///Users/marcusferreira/.cache/kagglehub/datasets/ealtman2019/credit-card-transactions/versions/8/sd254_users.csv\n",
      "[Stage 5:=====================================================>   (17 + 1) / 18]\r"
     ]
    },
    {
     "name": "stdout",
     "output_type": "stream",
     "text": [
      "+----+----------+\n",
      "|Year|qtd_linhas|\n",
      "+----+----------+\n",
      "|  52|         1|\n",
      "|  77|         1|\n",
      "|  79|         1|\n",
      "|  76|         1|\n",
      "|  78|         2|\n",
      "|  50|         2|\n",
      "|  53|         3|\n",
      "|  54|         5|\n",
      "|  56|         6|\n",
      "|  55|         8|\n",
      "|  75|        14|\n",
      "|  57|        19|\n",
      "|  74|        19|\n",
      "|  58|        20|\n",
      "|  59|        27|\n",
      "|  73|        33|\n",
      "|  60|        48|\n",
      "|  72|        55|\n",
      "|  61|        56|\n",
      "|  63|        73|\n",
      "+----+----------+\n",
      "only showing top 20 rows\n",
      "\n"
     ]
    },
    {
     "name": "stderr",
     "output_type": "stream",
     "text": [
      "                                                                                \r"
     ]
    }
   ],
   "source": [
    "query = \"\"\"--sql\n",
    "    SELECT Year, count(*) as qtd_linhas \n",
    "    FROM global_temp.transacoes\n",
    "    GROUP BY Year\n",
    "    ORDER BY count(*) ASC\n",
    "\"\"\"\n",
    "\n",
    "linhas_ano = spark.sql(query).show()\n"
   ]
  },
  {
   "cell_type": "markdown",
   "metadata": {},
   "source": [
    "# Limpeza e filtros"
   ]
  },
  {
   "cell_type": "code",
   "execution_count": 7,
   "metadata": {},
   "outputs": [],
   "source": [
    "transacoes_filtradas = transacoes.filter((length(col(\"Year\")) == 4) & (col(\"Year\").rlike(\"^[0-9]{4}$\")))\n",
    "transacoes_filtradas.createGlobalTempView(\"transacoes_filtradas\")"
   ]
  },
  {
   "cell_type": "code",
   "execution_count": 8,
   "metadata": {},
   "outputs": [
    {
     "name": "stderr",
     "output_type": "stream",
     "text": [
      "25/03/27 21:44:06 WARN CSVHeaderChecker: CSV header does not conform to the schema.\n",
      " Header: Card Brand\n",
      " Schema: Year\n",
      "Expected: Year but found: Card Brand\n",
      "CSV file: file:///Users/marcusferreira/.cache/kagglehub/datasets/ealtman2019/credit-card-transactions/versions/8/sd254_cards.csv\n",
      "25/03/27 21:44:06 WARN CSVHeaderChecker: CSV header does not conform to the schema.\n",
      " Header: Retirement Age\n",
      " Schema: Year\n",
      "Expected: Year but found: Retirement Age\n",
      "CSV file: file:///Users/marcusferreira/.cache/kagglehub/datasets/ealtman2019/credit-card-transactions/versions/8/sd254_users.csv\n",
      "[Stage 8:=====================================================>   (17 + 1) / 18]\r"
     ]
    },
    {
     "name": "stdout",
     "output_type": "stream",
     "text": [
      "+----+\n",
      "|Year|\n",
      "+----+\n",
      "|2016|\n",
      "|2012|\n",
      "|2020|\n",
      "|2019|\n",
      "|2017|\n",
      "|2014|\n",
      "|2013|\n",
      "|2005|\n",
      "|2000|\n",
      "|2002|\n",
      "|2009|\n",
      "|2018|\n",
      "|2006|\n",
      "|2004|\n",
      "|2011|\n",
      "|2008|\n",
      "|1999|\n",
      "|1997|\n",
      "|2007|\n",
      "|1996|\n",
      "+----+\n",
      "only showing top 20 rows\n",
      "\n"
     ]
    },
    {
     "name": "stderr",
     "output_type": "stream",
     "text": [
      "                                                                                \r"
     ]
    }
   ],
   "source": [
    "query = \"\"\"--sql\n",
    "    SELECT DISTINCT Year\n",
    "    FROM global_temp.transacoes_filtradas\n",
    "\"\"\"\n",
    "\n",
    "spark.sql(query).show(20) "
   ]
  }
 ],
 "metadata": {
  "kernelspec": {
   "display_name": "Python 3",
   "language": "python",
   "name": "python3"
  },
  "language_info": {
   "codemirror_mode": {
    "name": "ipython",
    "version": 3
   },
   "file_extension": ".py",
   "mimetype": "text/x-python",
   "name": "python",
   "nbconvert_exporter": "python",
   "pygments_lexer": "ipython3",
   "version": "3.12.5"
  }
 },
 "nbformat": 4,
 "nbformat_minor": 2
}
